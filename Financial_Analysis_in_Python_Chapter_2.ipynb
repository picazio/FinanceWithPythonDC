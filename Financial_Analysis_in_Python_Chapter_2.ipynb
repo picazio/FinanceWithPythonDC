{
  "nbformat": 4,
  "nbformat_minor": 0,
  "metadata": {
    "colab": {
      "name": "Financial Analysis in Python - Chapter 2.ipynb",
      "provenance": [],
      "authorship_tag": "ABX9TyNHfjb1NBG3eqk1XsPIWV2H",
      "include_colab_link": true
    },
    "kernelspec": {
      "name": "python3",
      "display_name": "Python 3"
    }
  },
  "cells": [
    {
      "cell_type": "markdown",
      "metadata": {
        "id": "view-in-github",
        "colab_type": "text"
      },
      "source": [
        "<a href=\"https://colab.research.google.com/github/picazio/FinanceWithPythonDC/blob/master/Financial_Analysis_in_Python_Chapter_2.ipynb\" target=\"_parent\"><img src=\"https://colab.research.google.com/assets/colab-badge.svg\" alt=\"Open In Colab\"/></a>"
      ]
    },
    {
      "cell_type": "markdown",
      "metadata": {
        "id": "4GtmB0Nz10MN",
        "colab_type": "text"
      },
      "source": [
        "**Project Proposals and Cash Flows Projections**\n",
        "\n",
        "Your project managers have projected the cash flows for each of the proposals.\n",
        "\n",
        "Project 1 provides higher short term cash flows, but Project 2 becomes more profitable over time.\n",
        "\n",
        "The cash flow projections for both projects are as follows:\n",
        "\n",
        "![](https://drive.google.com/uc?id=1lZYsLMnt7VvBGytjUM-k2_kDe1xh55xm)\n",
        "\n",
        "Note: The projections are provided in thousands. For example, $1,000 = $1,000,000. We will use the smaller denominations to make everything easier to read. This is also commonly done in financial statements with thousands or even millions in order to represent millions or billions.\n"
      ]
    },
    {
      "cell_type": "markdown",
      "metadata": {
        "id": "OIz9BCSiNKxt",
        "colab_type": "text"
      },
      "source": [
        "* Create a variable cf_project_1 and set it equal to a numpy array of the projected cash flows (as shown in the table) for Project 1.\n",
        "* Repeat the process for Project 2 and set it equal to cf_project_2.\n",
        "* Scale the original values by 1000x, i.e. multiply the original arrays by 1000."
      ]
    },
    {
      "cell_type": "code",
      "metadata": {
        "id": "81gz2CJL1xOt",
        "colab_type": "code",
        "colab": {}
      },
      "source": [
        "import numpy as np\n",
        "\n",
        "# Create a numpy array of cash flows for Project 1\n",
        "cf_project_1 = np.array([-1000,200,250,300,350,400,450,500,550,600])\n",
        "\n",
        "# Create a numpy array of cash flows for Project 2\n",
        "cf_project_2 = np.array([-1000,150,225,300,375,425,500,575,600,625])\n",
        "\n",
        "# Scale the original objects by 1000x\n",
        "cf_project1 = cf_project_1*1000\n",
        "cf_project2 = cf_project_2*1000"
      ],
      "execution_count": 0,
      "outputs": []
    },
    {
      "cell_type": "markdown",
      "metadata": {
        "id": "6c1V6ODsN-m7",
        "colab_type": "text"
      },
      "source": [
        "**Internal Rate of Return (IRR)**\n",
        "\n",
        "Now that you have the cash flow projections ready to go for each project, you want to compare the internal rate of return (IRR) of each project to help you decide which project would be most beneficial for your company in terms of yield (rate of return). In this exercise, you will calculate the internal rate of return for each project using np.irr(values).\n",
        "\n",
        "The cash flows for projects 1 and 2 are available as cf_project1 and cf_project2."
      ]
    },
    {
      "cell_type": "markdown",
      "metadata": {
        "id": "iXITe4cWOESO",
        "colab_type": "text"
      },
      "source": [
        "* Set the internal rate of return for Project 1 equal to irr_project1.\n",
        "* Set the internal rate of return for Project 2 equal to irr_project2."
      ]
    },
    {
      "cell_type": "code",
      "metadata": {
        "id": "dvF16OrAOIQW",
        "colab_type": "code",
        "colab": {
          "base_uri": "https://localhost:8080/",
          "height": 51
        },
        "outputId": "6c464c23-cf7c-40a4-fa59-529884200a78"
      },
      "source": [
        "# Calculate the internal rate of return for Project 1\n",
        "irr_project1 = np.irr(cf_project1)\n",
        "print(\"Project 1 IRR: \" + str(round(100*irr_project1, 2)) + \"%\")\n",
        "\n",
        "# Calculate the internal rate of return for Project 2\n",
        "irr_project2 = np.irr(cf_project2)\n",
        "print(\"Project 2 IRR: \" + str(round(100*irr_project2, 2)) + \"%\")"
      ],
      "execution_count": 3,
      "outputs": [
        {
          "output_type": "stream",
          "text": [
            "Project 1 IRR: 28.92%\n",
            "Project 2 IRR: 28.78%\n"
          ],
          "name": "stdout"
        }
      ]
    },
    {
      "cell_type": "markdown",
      "metadata": {
        "id": "ufhObf7_OyWi",
        "colab_type": "text"
      },
      "source": [
        "**Make a Decision Based on IRR**\n",
        "If you were making the decision solely based on internal rate of return, which project would you be more interested in (assuming the IRR is greater than your required rate of return)?\n",
        "\n",
        "Assume your required rate of return is 10% for this example.\n",
        "\n",
        "Project 1 has the best IRR"
      ]
    },
    {
      "cell_type": "markdown",
      "metadata": {
        "id": "ej_Z1Fp_O52D",
        "colab_type": "text"
      },
      "source": [
        "**Debt and Equity Financing**\n",
        "\n",
        "In the previous chapter, you were able to assume that your discount rate for the NPV calculation was solely based on a measure such as inflation.\n",
        "\n",
        "However, in this chapter, you are the CEO of a new company that has outstanding debt and financing costs, which you will have to adjust for.\n",
        "\n",
        "You will use the **WACC as your discount rate** in upcoming exercises.\n",
        "\n",
        "For this exercise, assume you take out a $1,000,000 loan to finance the project, which will be your company's only outstanding debt. This loan will represent 50% of your company's total financing of \\$2,000,000. The remaining funding comes from the market value of equity."
      ]
    },
    {
      "cell_type": "markdown",
      "metadata": {
        "id": "Rd6iuwP1QNHe",
        "colab_type": "text"
      },
      "source": [
        "* Set the market value of your company's debt, mval_debt, equal to the amount of the loan you will be issuing to finance the project.\n",
        "* Set the market value of your company's equity, mval_equity, equal to the remaining amount of funding after the loan.\n",
        "* Calculate the total market value of your company's financing, mval_total, by taking the sum of the debt and equity.\n",
        "* Calculate and print the proportion of your company's financing from debt (percent_debt) and from equity (percent_equity)."
      ]
    },
    {
      "cell_type": "code",
      "metadata": {
        "id": "0eJB3Nx1QSsF",
        "colab_type": "code",
        "colab": {
          "base_uri": "https://localhost:8080/",
          "height": 51
        },
        "outputId": "8d12f58b-7ec7-4728-fd8f-e7c265cf6219"
      },
      "source": [
        "# Set the market value of debt\n",
        "mval_debt = 1000000\n",
        "\n",
        "# Set the market value of equity\n",
        "mval_equity = 1000000\n",
        "\n",
        "# Compute the total market value of your company's financing\n",
        "mval_total = mval_debt+mval_equity\n",
        "\n",
        "# Compute the proportion of your company's financing via debt\n",
        "percent_debt = mval_debt/mval_total\n",
        "print(\"Debt Financing: \" + str(round(100*percent_debt, 2)) + \"%\")\n",
        "\n",
        "# Compute the proportion of your company's financing via equity\n",
        "percent_equity = mval_equity/mval_total\n",
        "print(\"Equity Financing: \" + str(round(100*percent_equity, 2)) + \"%\")"
      ],
      "execution_count": 4,
      "outputs": [
        {
          "output_type": "stream",
          "text": [
            "Debt Financing: 50.0%\n",
            "Equity Financing: 50.0%\n"
          ],
          "name": "stdout"
        }
      ]
    },
    {
      "cell_type": "markdown",
      "metadata": {
        "id": "MsCo4bC5Q1vQ",
        "colab_type": "text"
      },
      "source": [
        "Equity: https://en.wikipedia.org/wiki/Equity_(finance)"
      ]
    },
    {
      "cell_type": "markdown",
      "metadata": {
        "id": "KyjIJMNARRP-",
        "colab_type": "text"
      },
      "source": [
        "**Calculating WACC**\n",
        "\n",
        "In addition to determining the proportion of both equity and debt financing, you will need to estimate the cost of financing via both debt and equity in order to estimate your WACC.\n",
        "\n",
        "The **cost of debt** financing can be estimated as the amount you will have to pay on a new loan. This can be estimated by looking at the interest rates of loans of similar sizes to similar companies, or could be based on previous loans your company may already have been issued.\n",
        "\n",
        "The **cost of equity** financing can be estimated as the return on equity of similar companies. Calculating the return on equity is a simple accounting exercise, but all you need to know is that essentially, investors will require a rate of return that is close to what could be earned by a similar investment."
      ]
    },
    {
      "cell_type": "markdown",
      "metadata": {
        "id": "dc2JFULcRaw0",
        "colab_type": "text"
      },
      "source": [
        "* Assume a cost of equity of 18% based on similar companies.\n",
        "* The bank is willing to lend at an interest rate of 12%.\n",
        "* Assume a corporate tax rate of 35% and that your debt financing is tax-deductible.\n",
        "* Calculate and print your company's WACC."
      ]
    },
    {
      "cell_type": "code",
      "metadata": {
        "id": "Wz7WlTxESgJr",
        "colab_type": "code",
        "colab": {
          "base_uri": "https://localhost:8080/",
          "height": 34
        },
        "outputId": "f21f4184-cce7-49c8-a634-8b2964ff8fc5"
      },
      "source": [
        "# The proportion of debt vs equity financing is predefined\n",
        "percent_debt = 0.50\n",
        "percent_equity = 0.50\n",
        "\n",
        "# Set the cost of equity\n",
        "cost_equity = 0.18\n",
        "\n",
        "# Set the cost of debt\n",
        "cost_debt = 0.12\n",
        "\n",
        "# Set the corporate tax rate\n",
        "tax_rate = 0.35\n",
        "\n",
        "# Calculate the WACC\n",
        "wacc = percent_equity*cost_equity + percent_debt*cost_debt*(1-tax_rate)\n",
        "print(\"WACC: \" + str(round(100*wacc, 2)) + \"%\")"
      ],
      "execution_count": 5,
      "outputs": [
        {
          "output_type": "stream",
          "text": [
            "WACC: 12.9%\n"
          ],
          "name": "stdout"
        }
      ]
    },
    {
      "cell_type": "markdown",
      "metadata": {
        "id": "O9WN1puqdUVS",
        "colab_type": "text"
      },
      "source": [
        "**Comparing Project NPV with IRR**\n",
        "\n",
        "Companies use their WACC as the discount rate when calculating the net present value of potential projects.\n",
        "\n",
        "In the same way that you discounted values by inflation in the previous chapter to account for costs over time, companies adjust the cash flows of potential projects by their cost of financing (the WACC) to account for their investor's required rate of return based on market conditions.\n",
        "\n",
        "Now that you calculated the WACC, you can determine the net present value (NPV) of each project's cash flows. The cash flows for projects 1 and 2 are available as cf_project1 and cf_project2."
      ]
    },
    {
      "cell_type": "markdown",
      "metadata": {
        "id": "aHacj2gKdZds",
        "colab_type": "text"
      },
      "source": [
        "* Set your weighted average cost of capital (wacc) equal to 12.9%.\n",
        "* Calculate the net present value of both proposed projects using np.npv()."
      ]
    },
    {
      "cell_type": "code",
      "metadata": {
        "id": "nu3VleCFdd2M",
        "colab_type": "code",
        "colab": {
          "base_uri": "https://localhost:8080/",
          "height": 51
        },
        "outputId": "a7c1d492-8008-4a00-c23f-b6bce67706a1"
      },
      "source": [
        "\n",
        "# Set your weighted average cost of capital equal to 12.9%\n",
        "wacc = 0.129\n",
        "\n",
        "# Calculate the net present value for Project 1\n",
        "npv_project1 = np.npv(wacc,cf_project1)\n",
        "print(\"Project 1 NPV: \" + str(round(npv_project1, 2)))\n",
        "\n",
        "# Calculate the net present value for Project 2\n",
        "npv_project2 = np.npv(wacc,cf_project2)\n",
        "print(\"Project 2 NPV: \" + str(round(npv_project2, 2)))"
      ],
      "execution_count": 6,
      "outputs": [
        {
          "output_type": "stream",
          "text": [
            "Project 1 NPV: 856073.18\n",
            "Project 2 NPV: 904741.35\n"
          ],
          "name": "stdout"
        }
      ]
    },
    {
      "cell_type": "markdown",
      "metadata": {
        "id": "j9H8muX_fmUu",
        "colab_type": "text"
      },
      "source": [
        "**The metric to compare two project with different lifespans**\n",
        "\n",
        "The board of the company has decided to go a different direction, involving slightly shorter term projects and lower initial investments.\n",
        "\n",
        "Your project managers have come up with two new ideas, and projected the cash flows for each of the proposals.\n",
        "\n",
        "Project 1 has a lifespan of 8 years, but Project 2 only has a lifespan of 7 years. Project 1 requires an initial investment of $700,000, but Project 2 only requires \\$400,000.\n",
        "\n",
        "The cash flow projections for both projects are as follows:\n",
        "\n",
        "![](https://drive.google.com/uc?id=17WkG8OxckUF9CO8RG_8BR_YCWoX6ESvV)"
      ]
    },
    {
      "cell_type": "markdown",
      "metadata": {
        "id": "CUeLfucfgHt_",
        "colab_type": "text"
      },
      "source": [
        "* Create a variable cf_project_1 and set it equal to a numpy array of the projected cash flows for Project 1.\n",
        "* Repeat the process for Project 2, setting it equal to cf_project_2.\n",
        "* Scale the original values by 1000x, i.e. multiply the original arrays by 1000.\n"
      ]
    },
    {
      "cell_type": "code",
      "metadata": {
        "id": "v-eDoEakgMHV",
        "colab_type": "code",
        "colab": {}
      },
      "source": [
        "import numpy as np\n",
        "\n",
        "# Create a numpy array of cash flows for Project 1\n",
        "cf_project_1 = np.array([-700,100,150,200,250,300,350,400])\n",
        "\n",
        "# Create a numpy array of cash flows for Project 2\n",
        "cf_project_2 = np.array([-400,50,100,150,200,250,300])\n",
        "\n",
        "# Scale the original objects by 1000x\n",
        "cf_project1 = cf_project_1*1000\n",
        "cf_project2 = cf_project_2*1000"
      ],
      "execution_count": 0,
      "outputs": []
    },
    {
      "cell_type": "markdown",
      "metadata": {
        "id": "Bp0Pidqbg3C6",
        "colab_type": "text"
      },
      "source": [
        "**Calculating IRR and NPV With Different Project Lifespans**\n",
        "\n",
        "Now that you calculated the WACC, you can calculate and compare the IRRs and NPVs of each project.\n",
        "\n",
        "While the IRR remains relatively comparable across projects, the NPV, on the other hand, will be much more difficult to compare given the additional year required for project 1.\n",
        "\n",
        "Luckily, in the next exercise, we will introduce another method to compare the NPVs of the projects, but we will first need to compute the NPVs as before.\n",
        "\n",
        "The cash flows for projects 1 and 2 are available as cf_project1 and cf_project2."
      ]
    },
    {
      "cell_type": "markdown",
      "metadata": {
        "id": "OcYnHzlBg75w",
        "colab_type": "text"
      },
      "source": [
        "* Compute and print the IRR of each project.\n",
        "* Set the WACC equal to 12.9%\n",
        "* Compute and print the NPV of each project.\n"
      ]
    },
    {
      "cell_type": "code",
      "metadata": {
        "id": "_j0RQ6_Qg_94",
        "colab_type": "code",
        "colab": {
          "base_uri": "https://localhost:8080/",
          "height": 85
        },
        "outputId": "969950fc-55e0-4577-8edd-c7762471841c"
      },
      "source": [
        "import numpy as np\n",
        "\n",
        "# Calculate the IRR for Project 1\n",
        "irr_project1 = np.irr(cf_project1)\n",
        "print(\"Project 1 IRR: \" + str(round(100*irr_project1, 2)) + \"%\")\n",
        "\n",
        "# Calculate the IRR for Project 2\n",
        "irr_project2 = np.irr(cf_project2)\n",
        "print(\"Project 2 IRR: \" + str(round(100*irr_project2, 2)) + \"%\")\n",
        "\n",
        "# Set the wacc equal to 12.9%\n",
        "wacc = 0.129\n",
        "\n",
        "# Calculate the NPV for Project 1\n",
        "npv_project1 = np.npv(wacc,cf_project1)\n",
        "print(\"Project 1 NPV: \" + str(round(npv_project1, 2)))\n",
        "\n",
        "# Calculate the NPV for Project 2\n",
        "npv_project2 = np.npv(wacc,cf_project2)\n",
        "print(\"Project 2 NPV: \" + str(round(npv_project2, 2)))"
      ],
      "execution_count": 8,
      "outputs": [
        {
          "output_type": "stream",
          "text": [
            "Project 1 IRR: 22.94%\n",
            "Project 2 IRR: 26.89%\n",
            "Project 1 NPV: 302744.98\n",
            "Project 2 NPV: 231228.39\n"
          ],
          "name": "stdout"
        }
      ]
    },
    {
      "cell_type": "markdown",
      "metadata": {
        "id": "SMrdPkzwhbA1",
        "colab_type": "text"
      },
      "source": [
        "**Using the Equivalent Annual Annuity Approach**\n",
        "\n",
        "Since the net present values of each project are not directly comparable given the different lifespans of each project, you will have to consider a different approach.\n",
        "\n",
        "The equivalent annual annuity (EAA) approach allows us to compare two projects by essentially assuming that each project is an investment generating a flat interest rate each year (an annuity), and calculating the annual payment you would receive from each project, discounted to present value.\n",
        "\n",
        "You can compute the EAA of each project using the .pmt(rate, nper, pv, fv) function in numpy.\n",
        "\n",
        "The weighted average cost is available as wacc, and the net present values for projects 1 and 2 are available as npv_project1 and npv_project2."
      ]
    },
    {
      "cell_type": "markdown",
      "metadata": {
        "id": "Is_KZyDfhfnd",
        "colab_type": "text"
      },
      "source": [
        "* Calculate and print the EAA for project 1 (using 8 as the time period).\n",
        "* Calculate and print the EAA for project 2 (using 7 as the time period)."
      ]
    },
    {
      "cell_type": "code",
      "metadata": {
        "id": "wuD4KSaxhlFL",
        "colab_type": "code",
        "colab": {
          "base_uri": "https://localhost:8080/",
          "height": 51
        },
        "outputId": "2adc6e24-e20a-4053-fca7-5a891faaa8b2"
      },
      "source": [
        "import numpy as np\n",
        "\n",
        "# Calculate the EAA for Project 1\n",
        "eaa_project1 = np.pmt(rate=wacc, nper=8, pv=-npv_project1, fv=0)\n",
        "print(\"Project 1 EAA: \" + str(round(eaa_project1, 2)))\n",
        "\n",
        "# Calculate the EAA for Project 2\n",
        "eaa_project2 = np.pmt(rate=wacc, nper=7, pv=-npv_project2, fv=0)\n",
        "print(\"Project 2 EAA: \" + str(round(eaa_project2, 2)))"
      ],
      "execution_count": 9,
      "outputs": [
        {
          "output_type": "stream",
          "text": [
            "Project 1 EAA: 62872.2\n",
            "Project 2 EAA: 52120.61\n"
          ],
          "name": "stdout"
        }
      ]
    },
    {
      "cell_type": "markdown",
      "metadata": {
        "id": "NQq6vzHniTgV",
        "colab_type": "text"
      },
      "source": [
        "Based on these results the Project 1 is the best"
      ]
    }
  ]
}