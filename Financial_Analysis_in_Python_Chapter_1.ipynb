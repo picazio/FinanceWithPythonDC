{
  "nbformat": 4,
  "nbformat_minor": 0,
  "metadata": {
    "colab": {
      "name": "Financial Analysis in Python - Chapter 1.ipynb",
      "provenance": [],
      "authorship_tag": "ABX9TyPxSvsvr2CynW28R2jxd0Sb",
      "include_colab_link": true
    },
    "kernelspec": {
      "name": "python3",
      "display_name": "Python 3"
    }
  },
  "cells": [
    {
      "cell_type": "markdown",
      "metadata": {
        "id": "view-in-github",
        "colab_type": "text"
      },
      "source": [
        "<a href=\"https://colab.research.google.com/github/picazio/FinanceWithPythonDC/blob/master/Financial_Analysis_in_Python_Chapter_1.ipynb\" target=\"_parent\"><img src=\"https://colab.research.google.com/assets/colab-badge.svg\" alt=\"Open In Colab\"/></a>"
      ]
    },
    {
      "cell_type": "markdown",
      "metadata": {
        "id": "Nrj4xf6q7HGD",
        "colab_type": "text"
      },
      "source": [
        "**Growth and Rate of Return**\n",
        "\n",
        "Growth and Rate of Return are two concepts that are ubiquitous throughout the financial world. Recall that the cumulative returns from investing $100 in an asset that grows at 5% per year, over a 2 year period can be calculated as:\n",
        "\n",
        "100∗(1+0.05)2"
      ]
    },
    {
      "cell_type": "markdown",
      "metadata": {
        "id": "vZR7AenoTs55",
        "colab_type": "text"
      },
      "source": [
        "*  Calculate the future value (cumulative return) of a $100 investment which grows at a rate of 6% per year for 30 years in a row and assign it to future_value."
      ]
    },
    {
      "cell_type": "code",
      "metadata": {
        "id": "B9ED11Pn7FcM",
        "colab_type": "code",
        "colab": {
          "base_uri": "https://localhost:8080/",
          "height": 34
        },
        "outputId": "6dcf4b08-31dc-40e9-a164-467fa6080158"
      },
      "source": [
        "# Calculate the future value of the investment and print it out\n",
        "future_value = 100*((1+0.06)**30)\n",
        "print(\"Future Value of Investment: \" + str(round(future_value, 2)))"
      ],
      "execution_count": 2,
      "outputs": [
        {
          "output_type": "stream",
          "text": [
            "Future Value of Investment: 574.35\n"
          ],
          "name": "stdout"
        }
      ]
    },
    {
      "cell_type": "markdown",
      "metadata": {
        "id": "wATckbqDoK0G",
        "colab_type": "text"
      },
      "source": [
        "**Compound Interest**\n",
        "\n",
        "As you saw in the previous exercise, both time and the rate of return are very important variables when forecasting the future value of an investment.\n",
        "\n",
        "Another important variable is the number of compounding periods, which can greatly affect compounded returns over time."
      ]
    },
    {
      "cell_type": "markdown",
      "metadata": {
        "id": "QH6a8TdgoUsG",
        "colab_type": "text"
      },
      "source": [
        "* Calculate the value of a $100 investment which grows at a rate of 6% per year for 30 years in a row compounded once per year and assign it to investment_1."
      ]
    },
    {
      "cell_type": "code",
      "metadata": {
        "id": "hsazwaeHoWup",
        "colab_type": "code",
        "colab": {
          "base_uri": "https://localhost:8080/",
          "height": 34
        },
        "outputId": "b18b0c07-13fa-4efe-c67c-89c1257a0366"
      },
      "source": [
        "# Predefined variables\n",
        "initial_investment = 100\n",
        "growth_periods = 30\n",
        "growth_rate = 0.06\n",
        "\n",
        "# Calculate the value for the investment compounded once per year\n",
        "compound_periods_1 = 1\n",
        "investment_1 = initial_investment*(1 + growth_rate / compound_periods_1)**(compound_periods_1*growth_periods)\n",
        "print(\"Investment 1: \" + str(round(investment_1, 2)))"
      ],
      "execution_count": 3,
      "outputs": [
        {
          "output_type": "stream",
          "text": [
            "Investment 1: 574.35\n"
          ],
          "name": "stdout"
        }
      ]
    },
    {
      "cell_type": "markdown",
      "metadata": {
        "id": "iPTXG2ZwodQ5",
        "colab_type": "text"
      },
      "source": [
        "* Calculate the value of the same investment, but compounded quarterly and assign it to investment_2."
      ]
    },
    {
      "cell_type": "code",
      "metadata": {
        "id": "MMd5ZJUHog0z",
        "colab_type": "code",
        "colab": {
          "base_uri": "https://localhost:8080/",
          "height": 34
        },
        "outputId": "4847ef91-54ea-4702-9ec0-25582924be0c"
      },
      "source": [
        "# Calculate the value for the investment compounded quarterly\n",
        "compound_periods_2 = 4\n",
        "investment_2 = initial_investment*(1 + growth_rate / compound_periods_2)**(compound_periods_2*growth_periods)\n",
        "print(\"Investment 2: \" + str(round(investment_2, 2)))"
      ],
      "execution_count": 4,
      "outputs": [
        {
          "output_type": "stream",
          "text": [
            "Investment 2: 596.93\n"
          ],
          "name": "stdout"
        }
      ]
    },
    {
      "cell_type": "markdown",
      "metadata": {
        "id": "Dq8IhNT_olFY",
        "colab_type": "text"
      },
      "source": [
        "* Calculate the value of the same investment, but compounded monthly and assign it to investment_3."
      ]
    },
    {
      "cell_type": "code",
      "metadata": {
        "id": "OntSeX3xopHR",
        "colab_type": "code",
        "colab": {
          "base_uri": "https://localhost:8080/",
          "height": 34
        },
        "outputId": "e186d316-5789-4e9b-c700-2e9faa29dcf7"
      },
      "source": [
        "# Calculate the value for the investment compounded monthly\n",
        "compound_periods_3 = 12\n",
        "investment_3 = initial_investment*(1 + growth_rate / compound_periods_3)**(compound_periods_3*growth_periods)\n",
        "print(\"Investment 3: \" + str(round(investment_3, 2)))"
      ],
      "execution_count": 5,
      "outputs": [
        {
          "output_type": "stream",
          "text": [
            "Investment 3: 602.26\n"
          ],
          "name": "stdout"
        }
      ]
    },
    {
      "cell_type": "markdown",
      "metadata": {
        "id": "nkQgLR61o_Fu",
        "colab_type": "text"
      },
      "source": [
        "**Discount Factors and Depreciation**\n",
        "\n",
        "Unfortunately, not everything grows in value over time.\n",
        "\n",
        "In fact, many assets depreciate, or lose value over time. To simulate this, you can simply assume a negative expected rate of return.\n",
        "\n",
        "**Example:**\n",
        "\n",
        "Calculate the final depreciated value of an initially $10,000 car which declines in value by 3% per year for 10 years:\n",
        "\n",
        "$10,000∗(1+−0.03)10=$7,374.24"
      ]
    },
    {
      "cell_type": "markdown",
      "metadata": {
        "id": "8Gs-GMwgpEkk",
        "colab_type": "text"
      },
      "source": [
        "* Calculate the future value of a $100 investment that depreciates in value by 5% per year for 10 years and assign it to future_value"
      ]
    },
    {
      "cell_type": "code",
      "metadata": {
        "id": "gvWhqYCapJbM",
        "colab_type": "code",
        "colab": {
          "base_uri": "https://localhost:8080/",
          "height": 34
        },
        "outputId": "3e8a3ef5-613d-4fcc-fdf1-bf7cb8bc5b8a"
      },
      "source": [
        "# Calculate the future value\n",
        "initial_investment = 100\n",
        "growth_rate = -0.05\n",
        "growth_periods = 10\n",
        "future_value = initial_investment*(1 + growth_rate)**(growth_periods)\n",
        "print(\"Future value: \" + str(round(future_value, 2)))"
      ],
      "execution_count": 6,
      "outputs": [
        {
          "output_type": "stream",
          "text": [
            "Future value: 59.87\n"
          ],
          "name": "stdout"
        }
      ]
    },
    {
      "cell_type": "markdown",
      "metadata": {
        "id": "oreJs0kIpONL",
        "colab_type": "text"
      },
      "source": [
        "* Calculate the discount factor of the investment and assign it to discount_factor."
      ]
    },
    {
      "cell_type": "code",
      "metadata": {
        "id": "hhfWotUZpQyz",
        "colab_type": "code",
        "colab": {
          "base_uri": "https://localhost:8080/",
          "height": 34
        },
        "outputId": "65df8c1b-55f0-4864-f609-975b1f40ea51"
      },
      "source": [
        "# Calculate the discount factor\n",
        "discount_factor = 1/((1 + growth_rate)**(growth_periods))\n",
        "print(\"Discount factor: \" + str(round(discount_factor, 2)))"
      ],
      "execution_count": 7,
      "outputs": [
        {
          "output_type": "stream",
          "text": [
            "Discount factor: 1.67\n"
          ],
          "name": "stdout"
        }
      ]
    },
    {
      "cell_type": "markdown",
      "metadata": {
        "id": "L5yOettRpUlN",
        "colab_type": "text"
      },
      "source": [
        "* Derive the initial value of the investment using the future value and the discount factor and assign it to initial_investment_again."
      ]
    },
    {
      "cell_type": "code",
      "metadata": {
        "id": "YGcIwvhWpYZ6",
        "colab_type": "code",
        "colab": {
          "base_uri": "https://localhost:8080/",
          "height": 34
        },
        "outputId": "d8492ac4-6264-4bfd-a40c-db41587a49fd"
      },
      "source": [
        "# Derive the initial value of the investment\n",
        "initial_investment_again = discount_factor*future_value\n",
        "print(\"Initial value: \" + str(round(initial_investment_again, 2)))"
      ],
      "execution_count": 8,
      "outputs": [
        {
          "output_type": "stream",
          "text": [
            "Initial value: 100.0\n"
          ],
          "name": "stdout"
        }
      ]
    },
    {
      "cell_type": "markdown",
      "metadata": {
        "id": "sM8srLt45uBi",
        "colab_type": "text"
      },
      "source": [
        "**Present Value**\n",
        "\n",
        "Luckily for you, there is a module called numpy which contains many functions which will make your life much easier when working with financial values.\n",
        "\n",
        "The .pv(rate, nper, pmt, fv) function, for example, allows you to calculate the present value of an investment as before with a few simple parameters:\n",
        "\n",
        "rate: The rate of return of the investment\n",
        "\n",
        "*   rate: The rate of return of the investment\n",
        "*   nper: The lifespan of the investment\n",
        "*   pmt: The (fixed) payment at the beginning or end of each period (which is 0 in our example)\n",
        "*   fv: The future value of the investment\n",
        "\n",
        "You can use this formula in many ways. For example, you can calculate the present value of future investments in today's dollars."
      ]
    },
    {
      "cell_type": "markdown",
      "metadata": {
        "id": "rx78Jo0I5xU5",
        "colab_type": "text"
      },
      "source": [
        "*   Import numpy as np.\n",
        "*   Using Numpy's .pv() function, compute the present value of an investment which will yield $10,000 15 years from now at an inflation rate of 3% per year and assign it to investment_1.\n",
        "*   Compute the present value of the same investment, but with a time horizon of only 10 years and an inflation rate of 5%, assigning it to investment_2.\n",
        "\n",
        "\n",
        "\n"
      ]
    },
    {
      "cell_type": "code",
      "metadata": {
        "id": "9bl6Hnzw6HWY",
        "colab_type": "code",
        "colab": {
          "base_uri": "https://localhost:8080/",
          "height": 51
        },
        "outputId": "2d26f0cd-0837-4847-bab4-009203f7ca21"
      },
      "source": [
        "# Import numpy as np\n",
        "import numpy as np\n",
        "\n",
        "# Calculate investment_1\n",
        "investment_1 = np.pv(rate=0.03, nper=15, pmt=0, fv=10000)\n",
        "\n",
        "# Note that the present value returned is negative, so we multiply the result by -1\n",
        "print(\"Investment 1 is worth \" + str(round(-investment_1, 2)) + \" in today's dollars\")\n",
        "\n",
        "# Calculate investment_2\n",
        "investment_2 = np.pv(rate=0.05, nper=10, pmt=0, fv=10000)\n",
        "print(\"Investment 2 is worth \" + str(round(-investment_2, 2)) + \" in today's dollars\")"
      ],
      "execution_count": 1,
      "outputs": [
        {
          "output_type": "stream",
          "text": [
            "Investment 1 is worth 6418.62 in today's dollars\n",
            "Investment 2 is worth 6139.13 in today's dollars\n"
          ],
          "name": "stdout"
        }
      ]
    },
    {
      "cell_type": "markdown",
      "metadata": {
        "id": "1TCv9AHqpqUi",
        "colab_type": "text"
      },
      "source": [
        "**Future Value**\n",
        "\n",
        "The numpy module also contains a similar function, .fv(rate, nper, pmt, pv), which allows you to calculate the future value of an investment as before with a few simple parameters:\n",
        "\n",
        "\n",
        "*   rate: The rate of return of the investment\n",
        "*   nper: The lifespan of the investment\n",
        "*   pmt: The (fixed) payment at the beginning or end of each period (which is 0 in our example)\n",
        "*   pv: The present value of the investment\n",
        "\n",
        "\n",
        "It is important to note that in this function call, you must pass a negative value into the pv parameter if it represents a negative cash flow (cash going out). In other words, if you were to compute the future value of an investment, requiring an up-front cash payment, you would need to pass a negative value to the pv parameter in the .fv() function."
      ]
    },
    {
      "cell_type": "markdown",
      "metadata": {
        "id": "4LWGWGiuqxR8",
        "colab_type": "text"
      },
      "source": [
        "* Using Numpy's .fv() function, calculate the future value of a $10,000 investment returning 5% per year for 15 years and assign it to investment_1.\n",
        "\n",
        "* Calculate the future value of a $10,000 investment returning 8% per year for 15 years and assign it to investment_2."
      ]
    },
    {
      "cell_type": "code",
      "metadata": {
        "id": "_f_5kJ-5qJiw",
        "colab_type": "code",
        "colab": {
          "base_uri": "https://localhost:8080/",
          "height": 51
        },
        "outputId": "2a053871-f978-440d-b4a2-688b65e27253"
      },
      "source": [
        "import numpy as np\n",
        "\n",
        "# Calculate investment_1\n",
        "investment_1 = np.fv(rate=0.05, nper=15, pmt=0, pv=-10000)\n",
        "print(\"Investment 1 will yield a total of $\" + str(round(investment_1, 2)) + \" in 15 years\")\n",
        "\n",
        "# Calculate investment_2\n",
        "investment_2 = np.fv(rate=0.08, nper=15, pmt=0, pv=-10000)\n",
        "print(\"Investment 2 will yield a total of $\" + str(round(investment_2, 2)) + \" in 15 years\")"
      ],
      "execution_count": 9,
      "outputs": [
        {
          "output_type": "stream",
          "text": [
            "Investment 1 will yield a total of $20789.28 in 15 years\n",
            "Investment 2 will yield a total of $31721.69 in 15 years\n"
          ],
          "name": "stdout"
        }
      ]
    },
    {
      "cell_type": "markdown",
      "metadata": {
        "id": "8FQ19n-GrSqU",
        "colab_type": "text"
      },
      "source": [
        "**Adjusting Future Values for Inflation**\n",
        "\n",
        "You can now put together what you learned in the previous exercises by following a simple methodology:\n",
        "\n",
        "* First, forecast the future value of an investment given a rate of return\n",
        "* Second, discount the future value of the investment by a projected inflation rate\n",
        "\n",
        "The methodology above will use both the .fv() and .pv() functions to arrive at the projected value of a given investment in today's dollars, adjusted for inflation."
      ]
    },
    {
      "cell_type": "markdown",
      "metadata": {
        "id": "s-CqluO6rhOC",
        "colab_type": "text"
      },
      "source": [
        "* Calculate the future value of a $10,000 investment returning 8% per year for 10 years using .fv() and assign it to investment_1.\n",
        "* Calculate the inflation-adjusted present value of investment_1, using an inflation rate of 3% per year and assign it to investment_1_discounted."
      ]
    },
    {
      "cell_type": "code",
      "metadata": {
        "id": "KJ7NZi6YrkBm",
        "colab_type": "code",
        "colab": {
          "base_uri": "https://localhost:8080/",
          "height": 51
        },
        "outputId": "53356269-3251-4cb2-9bef-e90e8da66821"
      },
      "source": [
        "import numpy as np\n",
        "\n",
        "# Calculate investment_1\n",
        "investment_1 = np.fv(rate=0.08, nper=10, pmt=0, pv=-10000)\n",
        "print(\"Investment 1 will yield a total of $\" + str(round(investment_1, 2)) + \" in 10 years\")\n",
        "\n",
        "# Calculate investment_2\n",
        "investment_1_discounted = np.pv(rate=0.03, nper=10, pmt=0, fv=investment_1)\n",
        "print(\"After adjusting for inflation, investment 1 is worth $\" + str(round(-investment_1_discounted, 2)) + \" in today's dollars\")"
      ],
      "execution_count": 10,
      "outputs": [
        {
          "output_type": "stream",
          "text": [
            "Investment 1 will yield a total of $21589.25 in 10 years\n",
            "After adjusting for inflation, investment 1 is worth $16064.43 in today's dollars\n"
          ],
          "name": "stdout"
        }
      ]
    },
    {
      "cell_type": "markdown",
      "metadata": {
        "id": "QrdwwrEZt7zO",
        "colab_type": "text"
      },
      "source": [
        "**Discounting Cash Flows**\n",
        "\n",
        "You can use numpy's net present value function numpy.npv(rate, values) to calculate the net present value of a series of cash flows. You can create these cash flows by using a numpy.array([...]) of values.\n",
        "\n",
        "Compute the NPV of the same cash flows from the following project, but assuming different discount rates:\n",
        "\n",
        "Year Cash Flow\n",
        "\n",
        "1\t   $100\n",
        "\n",
        "2\t   $100\n",
        "\n",
        "3\t   $100\n",
        "\n",
        "4\t   $100\n",
        "\n",
        "5\t   $100"
      ]
    },
    {
      "cell_type": "code",
      "metadata": {
        "id": "gMRVbDFRuURt",
        "colab_type": "code",
        "colab": {
          "base_uri": "https://localhost:8080/",
          "height": 68
        },
        "outputId": "4d047951-e74c-4b52-dbfb-484883b6fb01"
      },
      "source": [
        "import numpy as np\n",
        "\n",
        "# Predefined array of cash flows\n",
        "cash_flows = np.array([100, 100, 100, 100, 100])\n",
        "\n",
        "# Calculate investment_1\n",
        "investment_1 = np.npv(rate=0.03, values=cash_flows)\n",
        "print(\"Investment 1's net present value is $\" + str(round(investment_1, 2)) + \" in today's dollars\")\n",
        "\n",
        "# Calculate investment_2\n",
        "investment_2 = np.npv(rate=0.05, values=cash_flows)\n",
        "print(\"Investment 2's net present value is $\" + str(round(investment_2, 2)) + \" in today's dollars\")\n",
        "\n",
        "# Calculate investment_3\n",
        "investment_3 = np.npv(rate=0.07, values=cash_flows)\n",
        "print(\"Investment 3's net present value is $\" + str(round(investment_3, 2)) + \" in today's dollars\")"
      ],
      "execution_count": 11,
      "outputs": [
        {
          "output_type": "stream",
          "text": [
            "Investment 1's net present value is $471.71 in today's dollars\n",
            "Investment 2's net present value is $454.6 in today's dollars\n",
            "Investment 3's net present value is $438.72 in today's dollars\n"
          ],
          "name": "stdout"
        }
      ]
    },
    {
      "cell_type": "markdown",
      "metadata": {
        "id": "1X_Tf0QXuy6H",
        "colab_type": "text"
      },
      "source": [
        "**Initial Project Costs**\n",
        "The numpy.npv(rate, values) function is very powerful because it allows you to pass in both positive and negative values.\n",
        "\n",
        "For this exercise, you will calculate the net present value of two potential projects with different cash flows:\n",
        "\n",
        "![](https://drive.google.com/uc?id=1yjaZRnd4gbjQGoGOfa8yYXWFvhRd89eR)\n",
        "\n",
        "In this example, project 1 only requires an initial investment of $250, generating a slowly increasing series of cash flows over the next 4 years.\n",
        "\n",
        "Project 2, on the other hand, requires an initial investment of $250 and an additional investment of \\$250 in year 3. However, project 2 continues to generate larger cash flows.\n",
        "\n",
        "Assuming both projects don't generate any more cash flows after the fifth year, which project would you decide to undertake? The best way to decide is by comparing the NPV of both projects.\n"
      ]
    },
    {
      "cell_type": "markdown",
      "metadata": {
        "id": "K1mgFSuSxMNw",
        "colab_type": "text"
      },
      "source": [
        "* Create a numpy array of the cash flow values for project 1, assigning it to cash_flows_1, and then do the same for project 2, assigning the values to cash_flows_2.\n",
        "* Calculate the net present value of both projects 1 and 2 assuming a 3% inflation rate."
      ]
    },
    {
      "cell_type": "code",
      "metadata": {
        "id": "gaMaGPoqxH5X",
        "colab_type": "code",
        "colab": {
          "base_uri": "https://localhost:8080/",
          "height": 51
        },
        "outputId": "1b6bd41e-8003-460c-eb2b-c2facacbc044"
      },
      "source": [
        "import numpy as np\n",
        "\n",
        "# Create an array of cash flows for project 1\n",
        "cash_flows_1 = np.array([-250,100,200,300,400])\n",
        "\n",
        "# Create an array of cash flows for project 2\n",
        "cash_flows_2 = np.array([-250,300,-250,300,300])\n",
        "\n",
        "# Calculate the net present value of project 1\n",
        "investment_1 = np.npv(rate=0.03, values=cash_flows_1)\n",
        "print(\"The net present value of Investment 1 is worth $\" + str(round(investment_1, 2)) + \" in today's dollars\")\n",
        "\n",
        "# Calculate the net present value of project 2\n",
        "investment_2 = np.npv(rate=0.03, values=cash_flows_2)\n",
        "print(\"The net present value of Investment 2 is worth $\" + str(round(investment_2, 2)) + \" in today's dollars\")"
      ],
      "execution_count": 12,
      "outputs": [
        {
          "output_type": "stream",
          "text": [
            "The net present value of Investment 1 is worth $665.54 in today's dollars\n",
            "The net present value of Investment 2 is worth $346.7 in today's dollars\n"
          ],
          "name": "stdout"
        }
      ]
    },
    {
      "cell_type": "markdown",
      "metadata": {
        "id": "ylCC1QByyMQP",
        "colab_type": "text"
      },
      "source": [
        "**Diminishing Cash Flows**\n",
        "\n",
        "Remember how compounded returns grow rapidly over time? Well, it works in the reverse, too. Compounded discount factors over time will quickly shrink a number towards zero.\n",
        "\n",
        "For example, $100 at a 3% annual discount for 1 year is still worth roughly \\$97.08:\n",
        "\n",
        "![](https://drive.google.com/uc?id=1_kDfBGv8lmaRxvGociN40WqEjrRCznGg)\n",
        "\n",
        "But this number shrinks quite rapidly as the number of discounting periods increases:\n",
        "\n",
        "![](https://drive.google.com/uc?id=1O75qSnuAZHZb5zFO3bcMlBem8qRGqnO3)\n",
        "\n",
        "This means that the longer in the future your cash flows will be received (or paid), the close to 0 that number will be."
      ]
    },
    {
      "cell_type": "markdown",
      "metadata": {
        "id": "0207G8-7ztW8",
        "colab_type": "text"
      },
      "source": [
        "* Calculate the present value of a single $100 payment received 30 years from now with an annual inflation rate of 3%, and assign it to investment_1.\n",
        "* Calculate the present value of the same payment, but if it was received 50 and 100 years from now, and assign it to investment_2 and investment_3 respectively."
      ]
    },
    {
      "cell_type": "code",
      "metadata": {
        "id": "bAUi-aY6zsgz",
        "colab_type": "code",
        "colab": {
          "base_uri": "https://localhost:8080/",
          "height": 68
        },
        "outputId": "ba0573c3-cfd7-435e-cf92-b5d4aa835d76"
      },
      "source": [
        "import numpy as np\n",
        "\n",
        "# Calculate investment_1\n",
        "investment_1 = np.pv(rate=0.03, nper=30, pmt=0, fv=100)\n",
        "print(\"Investment 1 is worth $\" + str(round(-investment_1, 2)) + \" in today's dollars\")\n",
        "\n",
        "# Calculate investment_2\n",
        "investment_2 = np.pv(rate=0.03, nper=50, pmt=0, fv=100)\n",
        "print(\"Investment 2 is worth $\" + str(round(-investment_2, 2)) + \" in today's dollars\")\n",
        "\n",
        "# Calculate investment_3\n",
        "investment_3 = np.pv(rate=0.03, nper=100, pmt=0, fv=100)\n",
        "print(\"Investment 3 is worth $\" + str(round(-investment_3, 2)) + \" in today's dollars\")"
      ],
      "execution_count": 13,
      "outputs": [
        {
          "output_type": "stream",
          "text": [
            "Investment 1 is worth $41.2 in today's dollars\n",
            "Investment 2 is worth $22.81 in today's dollars\n",
            "Investment 3 is worth $5.2 in today's dollars\n"
          ],
          "name": "stdout"
        }
      ]
    }
  ]
}