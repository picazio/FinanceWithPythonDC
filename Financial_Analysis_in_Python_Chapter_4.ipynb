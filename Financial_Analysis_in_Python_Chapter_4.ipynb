{
  "nbformat": 4,
  "nbformat_minor": 0,
  "metadata": {
    "colab": {
      "name": "Financial Analysis in Python - Chapter 4",
      "provenance": [],
      "authorship_tag": "ABX9TyMFiHlFWvvQVhA5bYyhN1+n",
      "include_colab_link": true
    },
    "kernelspec": {
      "name": "python3",
      "display_name": "Python 3"
    }
  },
  "cells": [
    {
      "cell_type": "markdown",
      "metadata": {
        "id": "view-in-github",
        "colab_type": "text"
      },
      "source": [
        "<a href=\"https://colab.research.google.com/github/picazio/FinanceWithPythonDC/blob/master/Financial_Analysis_in_Python_Chapter_4.ipynb\" target=\"_parent\"><img src=\"https://colab.research.google.com/assets/colab-badge.svg\" alt=\"Open In Colab\"/></a>"
      ]
    },
    {
      "cell_type": "markdown",
      "metadata": {
        "id": "Aj_fmocDWDyE",
        "colab_type": "text"
      },
      "source": [
        "**Salary and Taxes**\n",
        "\n",
        "You just got a new job as an entry-level Data Scientist at a technology company in New York City with a decent starting salary of $85,000 per year.\n",
        "\n",
        "Unfortunately, after state and local taxes, you can expect to be sending roughly 30% back to the government each year.\n",
        "\n",
        "You will need to calculate your monthly take home pay after taxes in order to begin budgeting."
      ]
    },
    {
      "cell_type": "markdown",
      "metadata": {
        "id": "6OuIccw8WWgt",
        "colab_type": "text"
      },
      "source": [
        "* Assume a 30% tax rate and a base salary of $85,000.\n",
        "* Calculate your take home salary after taxes.\n",
        "* Calculate your monthly salary after taxes (Hint: You can use simple division in this case)."
      ]
    },
    {
      "cell_type": "code",
      "metadata": {
        "id": "bKpmvOFEV-JO",
        "colab_type": "code",
        "colab": {
          "base_uri": "https://localhost:8080/",
          "height": 51
        },
        "outputId": "6023f7f7-04ea-401e-f391-1ccd88d89a61"
      },
      "source": [
        "salary = 85000\n",
        "\n",
        "# Assume a tax rate of 30%\n",
        "tax_rate = 0.3\n",
        "\n",
        "# Calculate your salary after taxes\n",
        "salary_after_taxes = salary*(1-tax_rate)\n",
        "print(\"Salary after taxes: \" + str(round(salary_after_taxes, 2)))\n",
        "\n",
        "# Calculate your monthly salary after taxes\n",
        "monthly_takehome_salary = salary_after_taxes/12.\n",
        "print(\"Monthly takehome salary: \" + str(round(monthly_takehome_salary, 2)))"
      ],
      "execution_count": 1,
      "outputs": [
        {
          "output_type": "stream",
          "text": [
            "Salary after taxes: 59500.0\n",
            "Monthly takehome salary: 4958.33\n"
          ],
          "name": "stdout"
        }
      ]
    },
    {
      "cell_type": "markdown",
      "metadata": {
        "id": "Xj7dItuPXkWL",
        "colab_type": "text"
      },
      "source": [
        "**Monthly Expenses and Savings**\n",
        "\n",
        "In order to make it in New York City, you have decided to split a two-bedroom apartment with a friend. You will have to budget for rent, food and entertainment, but it's also a good idea to allocate an amount for unforeseen expenses each month. This unforeseen expenses budget could be used for anything ranging from new clothes or electronics to doctor appointments.\n",
        "\n",
        "Set up your monthly budget as follows:\n",
        "\n",
        "Rent: $1200 / month (Includes utilities)\n",
        "Food: \\$30 / day (On average. Includes groceries and eating out.)\n",
        "Entertainment: \\$200 / month (Movies, drinks, museums, parties...)\n",
        "Unforeseen Expenses: 250 / month (Stay safe, and don't drop your phone!)\n",
        "For this application, assume an average of 30 days per month. Whatever is left after your paying your monthly expenses will go into your savings account each month.\n",
        "\n",
        "monthly_takehome_salary from the previous exercise is available."
      ]
    },
    {
      "cell_type": "markdown",
      "metadata": {
        "id": "tCt9eJu-Ygxw",
        "colab_type": "text"
      },
      "source": [
        "* Calculate your monthly expenses.\n",
        "* Calculate your monthly savings (what's left after paying your monthly expenses)."
      ]
    },
    {
      "cell_type": "code",
      "metadata": {
        "id": "on4gx_3wZaLl",
        "colab_type": "code",
        "colab": {
          "base_uri": "https://localhost:8080/",
          "height": 51
        },
        "outputId": "fe7e3f70-300c-461e-e904-b0e6aa0ab298"
      },
      "source": [
        "# Enter your monthly rent\n",
        "monthly_rent = 1200\n",
        "\n",
        "# Enter your daily food budget\n",
        "daily_food_budget = 30\n",
        "\n",
        "# Calculate your monthly food budget assuming 30 days per month\n",
        "monthly_food_budget = daily_food_budget*30\n",
        "\n",
        "# Set your monthly entertainment budget\n",
        "monthly_entertainment_budget = 200\n",
        "\n",
        "# Allocate funds for unforeseen expenses, just in case\n",
        "monthly_unforeseen_expenses = 250\n",
        "\n",
        "# Next, calculate your total monthly expenses\n",
        "monthly_expenses = monthly_rent+monthly_food_budget+monthly_entertainment_budget+monthly_unforeseen_expenses\n",
        "print(\"Monthly expenses: \" + str(round(monthly_expenses, 2)))\n",
        "\n",
        "# Finally, calculate your monthly take-home savings\n",
        "monthly_savings = monthly_takehome_salary - monthly_expenses\n",
        "print(\"Monthly savings: \" + str(round(monthly_savings, 2)))"
      ],
      "execution_count": 2,
      "outputs": [
        {
          "output_type": "stream",
          "text": [
            "Monthly expenses: 2550\n",
            "Monthly savings: 2408.33\n"
          ],
          "name": "stdout"
        }
      ]
    },
    {
      "cell_type": "markdown",
      "metadata": {
        "id": "H_NZJjBTcciA",
        "colab_type": "text"
      },
      "source": [
        "**Forecast Salary Growth and Cost of Living**\n",
        "\n",
        "Due to both inflation and increased productivity from experience, you can expect your salary to grow at different rates depending on your job. Now, since you are working in a growing and in-demand career field as a Data Scientist, you can assume a steady growth in your annual salary every year based on performance.\n",
        "\n",
        "You can assume an annual salary growth rate of 5%, which means if you start at $85,000 per year, you can expect to earn over \\$176,000 per year after 15 years. After taxes, assuming your tax rate hasn't changed, that works out to roughly \\$125,000 per year, which is not unreasonable for a Data Scientist. In fact, you might even make it to that level in a few years! But just to be safe, you should be conservative with your projections.\n",
        "\n",
        "For this application, assume all inflation and salary growth happens in smaller increments on a monthly basis instead of just one large increase at the end of each year.\n",
        "\n",
        "monthly_takehome_salary from the previous exercise is available."
      ]
    },
    {
      "cell_type": "markdown",
      "metadata": {
        "id": "UQirP_V5cgY2",
        "colab_type": "text"
      },
      "source": [
        "* Derive the equivalent monthly salary growth (see the hint for the formula!)\n",
        "* Derive your actual salary forecast over time using the cumulative_salary_growth_forecast we defined for you."
      ]
    },
    {
      "cell_type": "code",
      "metadata": {
        "id": "lvRdKLE_cuX8",
        "colab_type": "code",
        "colab": {
          "base_uri": "https://localhost:8080/",
          "height": 295
        },
        "outputId": "899893ae-6c49-4fd9-ede6-57e8383f58c3"
      },
      "source": [
        "import numpy as np\n",
        "\n",
        "# Create monthly forecasts up to 15 years from now\n",
        "forecast_months = 12*15\n",
        "\n",
        "# Set your annual salary growth rate\n",
        "annual_salary_growth = 0.05\n",
        "\n",
        "# Calculate your equivalent monthly salary growth rate\n",
        "monthly_salary_growth = (1+annual_salary_growth)**(1/12.)-1\n",
        "\n",
        "# Forecast the cumulative growth of your salary\n",
        "cumulative_salary_growth_forecast = np.cumprod(np.repeat(1 + monthly_salary_growth, forecast_months))\n",
        "\n",
        "# Calculate the actual salary forecast\n",
        "salary_forecast = monthly_takehome_salary*cumulative_salary_growth_forecast\n",
        "\n",
        "import matplotlib.pyplot as plt\n",
        "\n",
        "# Plot the forecasted salary\n",
        "plt.plot(salary_forecast, color='blue')\n",
        "plt.xlabel(\"Period\")\n",
        "plt.ylabel(\"Montly Salary\")\n",
        "plt.title(\"Salary Forecast\")\n",
        "plt.show()"
      ],
      "execution_count": 3,
      "outputs": [
        {
          "output_type": "display_data",
          "data": {
            "image/png": "[encoded data removed]",
            "text/plain": [
              "<Figure size 432x288 with 1 Axes>"
            ]
          },
          "metadata": {
            "tags": []
          }
        }
      ]
    },
    {
      "cell_type": "markdown",
      "metadata": {
        "id": "V0HL_7XPgMiV",
        "colab_type": "text"
      },
      "source": [
        "**Forecast Growing Expenses Due to Inflation**\n",
        "\n",
        "You will also assume your monthly expenses will rise by an average of 2.5% per year due to inflation. This will lead to higher cost of living over time, paying for the same expenses each year but at a higher price. Luckily, your salary is growing faster than inflation, which means you should have more money going into savings each month.\n",
        "\n",
        "The monthly_expenses and forecast_months variables from the previous exercise are available."
      ]
    },
    {
      "cell_type": "markdown",
      "metadata": {
        "id": "Z9ulusS1gtV9",
        "colab_type": "text"
      },
      "source": [
        "* Set the annual inflation rate to 2.5%.\n",
        "* Derive the equivalent monthly inflation rate.\n",
        "* Forecast cumulative inflation growth over time.\n",
        "* Derive your monthly expenses by adjusting for growth due to inflation."
      ]
    },
    {
      "cell_type": "code",
      "metadata": {
        "id": "gP_8TZnuh1CV",
        "colab_type": "code",
        "colab": {
          "base_uri": "https://localhost:8080/",
          "height": 295
        },
        "outputId": "8af7c3f2-1aad-4512-91ee-e949de7b0349"
      },
      "source": [
        "import numpy as np\n",
        "\n",
        "# Set the annual inflation rate\n",
        "annual_inflation = 0.025\n",
        "\n",
        "# Calculate the equivalent monthly inflation rate\n",
        "monthly_inflation = (1+0.025)**(1/12.)-1\n",
        "\n",
        "# Forecast cumulative inflation over time\n",
        "cumulative_inflation_forecast = np.cumprod(np.repeat(1 + monthly_inflation, forecast_months))\n",
        "\n",
        "# Calculate your forecasted expenses\n",
        "expenses_forecast = monthly_expenses*cumulative_inflation_forecast\n",
        "\n",
        "# Plot the forecasted expenses\n",
        "plt.plot(expenses_forecast, color='red')\n",
        "plt.xlabel(\"Period\")\n",
        "plt.ylabel(\"Montly Expenses\")\n",
        "plt.title(\"Expenses Forecast\")\n",
        "plt.show()"
      ],
      "execution_count": 4,
      "outputs": [
        {
          "output_type": "display_data",
          "data": {
            "image/png": "[encoded data removed]",
            "text/plain": [
              "<Figure size 432x288 with 1 Axes>"
            ]
          },
          "metadata": {
            "tags": []
          }
        }
      ]
    },
    {
      "cell_type": "markdown",
      "metadata": {
        "id": "EZlmc0IkjxEq",
        "colab_type": "text"
      },
      "source": [
        "**Calculate Your Net Worth**\n",
        "\n",
        "Now that you have forecasted your savings and salary over time while taking career progression and inflation into account, you have constructed a time-series which you can use to calculate your cash flows, just like in Chapter 1.\n",
        "\n",
        "For this example, all you need to do is subtract your forecasted monthly expenses from your forecasted monthly salary. The remaining cash flow will go straight into your savings account for each month.\n",
        "\n",
        "You want to project your cumulative savings over time to see how effective your budgeting process will be given your projections.\n",
        "\n",
        "salary_forecast and expenses_forecast from the previous exercises are available."
      ]
    },
    {
      "cell_type": "markdown",
      "metadata": {
        "id": "BrGSxVA9j5wP",
        "colab_type": "text"
      },
      "source": [
        "* Forecast your monthly savings using projections for expenses and your monthly salary.\n",
        "* Calculate your cumulative savings over time.\n",
        "* Print the amount you have in your savings account after 15 years of diligent savings."
      ]
    },
    {
      "cell_type": "code",
      "metadata": {
        "id": "C0gFKj3fj9jc",
        "colab_type": "code",
        "colab": {
          "base_uri": "https://localhost:8080/",
          "height": 312
        },
        "outputId": "367236f2-e6fc-47bf-9c83-ed3f3910ed73"
      },
      "source": [
        "import numpy as np\n",
        "\n",
        "# Calculate your savings for each month\n",
        "savings_forecast = salary_forecast-expenses_forecast\n",
        "\n",
        "# Calculate your cumulative savings over time\n",
        "cumulative_savings = np.cumsum(savings_forecast)\n",
        "\n",
        "# Print the final cumulative savings after 15 years\n",
        "final_net_worth = cumulative_savings[-1]\n",
        "print(\"Your final net worth: \" + str(round(final_net_worth, 2)))\n",
        "\n",
        "# Plot the forecasted savings\n",
        "plt.plot(cumulative_savings, color='blue')\n",
        "plt.xlabel(\"Period\")\n",
        "plt.ylabel(\"Cumulative Savings\")\n",
        "plt.title(\"Forecasted Savings Over Time\")\n",
        "plt.show()"
      ],
      "execution_count": 5,
      "outputs": [
        {
          "output_type": "stream",
          "text": [
            "Your final net worth: 762318.83\n"
          ],
          "name": "stdout"
        },
        {
          "output_type": "display_data",
          "data": {
            "image/png": "[encoded data removed]",
            "text/plain": [
              "<Figure size 432x288 with 1 Axes>"
            ]
          },
          "metadata": {
            "tags": []
          }
        }
      ]
    },
    {
      "cell_type": "markdown",
      "metadata": {
        "id": "9PbcHaBnl2t4",
        "colab_type": "text"
      },
      "source": [
        "**So You Want to Be a Millionaire?**\n",
        "\n",
        "Your projections show that you can accumulate over $700,000 in just 15 years by following a strict budget and growing your salary steadily over time.\n",
        "\n",
        "But you want to be a millionaire in 15 years, retire young, sip margaritas and travel for the rest of your life. In order to do that, you're going to need to invest.\n",
        "\n",
        "Remember the .pmt() function from numpy? You can use this function to calculate how much you need to save each month in order to accumulate your desired wealth over time.\n",
        "\n",
        "You still have a lot to learn about the stock market, but your financial advisor told you that you can earn anywhere from 5-10% per year on your capital on average by investing in a low cost index fund.\n",
        "\n",
        "You know that the stock market doesn't always go up, but you will assume a modest 7% return per year, which has been the average annual return in the US stock market from 1950-2009.\n",
        "\n",
        "The forecast_months variable from the previous exercise is available."
      ]
    },
    {
      "cell_type": "markdown",
      "metadata": {
        "id": "Lpvgi7MXl7I9",
        "colab_type": "text"
      },
      "source": [
        "* Set the investment_rate_annual to 7% and derive the monthly investment rate.\n",
        "* Calculate the required monthly investment to amass $1,000,000 over 15 years.\n"
      ]
    },
    {
      "cell_type": "code",
      "metadata": {
        "id": "6RfjBbnfmAmx",
        "colab_type": "code",
        "colab": {
          "base_uri": "https://localhost:8080/",
          "height": 51
        },
        "outputId": "ae165294-4380-4af9-cddd-83998d86a3bb"
      },
      "source": [
        "import numpy as np\n",
        "\n",
        "# Set the annual investment return to 7%\n",
        "investment_rate_annual = 0.07\n",
        "\n",
        "# Calculate the monthly investment return\n",
        "investment_rate_monthly = (1+investment_rate_annual)**(1/12.)-1\n",
        "print(\"Monthly investiment rate is \"+str(round(investment_rate_monthly,5))+\" if annual rate is $\" + str(round(investment_rate_annual,5)))\n",
        "\n",
        "# Calculate your required monthly investment to amass $1M\n",
        "required_investment_monthly = np.pmt(rate=investment_rate_monthly, nper=forecast_months, pv=0 , fv=-1000000)\n",
        "print(\"You will have to invest $\" + str(round(required_investment_monthly, 2)) + \" per month to amass $1M over 15 years\")"
      ],
      "execution_count": 8,
      "outputs": [
        {
          "output_type": "stream",
          "text": [
            "Monthly investiment rate is 0.00565 if annual rate is $0.07\n",
            "You will have to invest $3214.35 per month to amass $1M over 15 years\n"
          ],
          "name": "stdout"
        }
      ]
    },
    {
      "cell_type": "markdown",
      "metadata": {
        "id": "BQUfP69EntFc",
        "colab_type": "text"
      },
      "source": [
        "**Investing a Percentage of Your Income (I)**\n",
        "\n",
        "Unfortunately, you really can't afford to save $3,000 per month in order to amass \\$1,000,000 after only 15 years.\n",
        "\n",
        "But what you can do is start slowly, investing a small percentage of your take-home income each month, which should grow over time as your income grows as well.\n",
        "\n",
        "In this exercise, you will lay the foundations to simulate this investing process over time.\n",
        "\n",
        "The salary_forecast and expenses_forecast variables are available from the previous exercise.\n",
        "\n",
        "The cash_flow_forecast is also available, and is an array of your forecasted salary minus your forecasted expenses. The monthly_investment_percentage variable is already set to 0.30."
      ]
    },
    {
      "cell_type": "markdown",
      "metadata": {
        "id": "4MjnrOYKn1pF",
        "colab_type": "text"
      },
      "source": [
        "* Using the investment percentage, calculate investment_deposit_forecast, your monthly investment deposits for each period based on your forecasted cash flows.\n",
        "* Calculate your monthly savings deposits for each period (this is the money left over that you didn't invest).\n",
        "* Calculate your cumulative savings over time.\n",
        "* Run the code provided to plot forecasted monthly savings vs investments."
      ]
    },
    {
      "cell_type": "code",
      "metadata": {
        "id": "yKIhEaDzn5wa",
        "colab_type": "code",
        "colab": {
          "base_uri": "https://localhost:8080/",
          "height": 295
        },
        "outputId": "79ab0390-03cc-4b4e-ae90-e884ede8567a"
      },
      "source": [
        "import numpy as np\n",
        "\n",
        "cash_flow_forecast=salary_forecast-expenses_forecast\n",
        "monthly_investment_percentage=0.30\n",
        "\n",
        "# Calculate your monthly deposit into your investment account\n",
        "investment_deposit_forecast = cash_flow_forecast*monthly_investment_percentage\n",
        "\n",
        "# The rest goes into your savings account\n",
        "savings_forecast_new = cash_flow_forecast * (1-monthly_investment_percentage)\n",
        "\n",
        "# Calculate your cumulative savings over time\n",
        "cumulative_savings_new = np.cumsum(savings_forecast_new)\n",
        "\n",
        "# Plot your forecasted monthly savings vs investments\n",
        "investments_plot, =plt.plot(investment_deposit_forecast, color='red',label='Investiments')\n",
        "savings_plot, =plt.plot(savings_forecast_new, color='blue',label='Savings')\n",
        "plt.xlabel(\"Period\")\n",
        "plt.ylabel(\"Montly Value\")\n",
        "plt.title(\"Forecasted Monthly Savings versus Investiments\")\n",
        "plt.legend(handles=[investments_plot, savings_plot], loc=2)\n",
        "plt.show()"
      ],
      "execution_count": 14,
      "outputs": [
        {
          "output_type": "display_data",
          "data": {
            "image/png": "[encoded data removed]",
            "text/plain": [
              "<Figure size 432x288 with 1 Axes>"
            ]
          },
          "metadata": {
            "tags": []
          }
        }
      ]
    },
    {
      "cell_type": "markdown",
      "metadata": {
        "id": "gQCAqIZ9xwv8",
        "colab_type": "text"
      },
      "source": [
        "**Investing a Percentage of Your Income (II)**\n",
        "\n",
        "To finish up your investment simulation, you will need to loop through each time period, calculate the growth of any investments you have already made, add your new monthly deposit, and calculate your net worth at each point in time.\n",
        "\n",
        "You can do it!\n",
        "\n",
        "Cumulative savings (cumulative_savings_new) from the previous exercise is available, and investment_portfolio and net_worth are pre-allocated empty numpy arrays of length equal to forecast_months."
      ]
    },
    {
      "cell_type": "markdown",
      "metadata": {
        "id": "xPE95bcjx14J",
        "colab_type": "text"
      },
      "source": [
        "* For each period, set your previous_investment equal to the previous value of investment_portfolio, unless it is the first iteration, in which case you have no investments yet.\n",
        "* Calculate your net worth at each time period by summing your cumulative savings and investment portfolio at that same time period.\n",
        "* Run the provided code to see a plot of net worth vs. savings and investments."
      ]
    },
    {
      "cell_type": "code",
      "metadata": {
        "id": "JDu1_T6Tx7ds",
        "colab_type": "code",
        "colab": {
          "base_uri": "https://localhost:8080/",
          "height": 295
        },
        "outputId": "8e05ec3f-f283-4a1d-80f7-c9b073a78aa2"
      },
      "source": [
        "import numpy as np\n",
        "\n",
        "investment_portfolio=np.zeros(forecast_months)\n",
        "net_worth=np.zeros(forecast_months)\n",
        "\n",
        "def plot_investments(inv_port,cumul_sav, net_w) :\n",
        "  investments_plot, =plt.plot(inv_port, color='red',label='Investiments')\n",
        "  savings_plot, =plt.plot(cumul_sav, color='blue',label='Savings')\n",
        "  networth_plot, =plt.plot(net_w, color='green',label='Net worth')\n",
        "  plt.xlabel(\"Period\")\n",
        "  plt.ylabel(\"Value\")\n",
        "  plt.title(\"Net Worth versus Saving and Investiments\")\n",
        "  plt.legend(handles=[investments_plot, savings_plot,networth_plot], loc=2)\n",
        "  plt.show()\n",
        "\n",
        "\n",
        "\n",
        "# Loop through each forecast period\n",
        "for i in range(forecast_months):\n",
        "    \n",
        "    # Find the previous investment deposit amount\n",
        "    if i == 0: \n",
        "        previous_investment = 0\n",
        "    else:\n",
        "        previous_investment = investment_portfolio[i-1]\n",
        "        \n",
        "    # Calculate the value of your previous investments, which have grown\n",
        "    previous_investment_growth = previous_investment*(1 + investment_rate_monthly)\n",
        "    \n",
        "    # Add your new deposit to your investment portfolio\n",
        "    investment_portfolio[i] =  previous_investment_growth + investment_deposit_forecast[i]\n",
        "    \n",
        "    # Calculate your net worth at each point in time\n",
        "    net_worth[i] = cumulative_savings_new[i]+investment_portfolio[i]\n",
        "         \n",
        "# Plot your forecasted cumulative savings vs investments and net worth\n",
        "plot_investments(investment_portfolio, cumulative_savings_new, net_worth)"
      ],
      "execution_count": 19,
      "outputs": [
        {
          "output_type": "display_data",
          "data": {
            "image/png": "[encoded data removed]",
            "text/plain": [
              "<Figure size 432x288 with 1 Axes>"
            ]
          },
          "metadata": {
            "tags": []
          }
        }
      ]
    },
    {
      "cell_type": "markdown",
      "metadata": {
        "id": "E4P4FgLv2CgA",
        "colab_type": "text"
      },
      "source": [
        "**Investing Over Time**\n",
        "\n",
        "If you would like to accumulate $1,000,000 over 15 years, at 7% per year, you will have to invest \\$3214.35 per month:"
      ]
    },
    {
      "cell_type": "code",
      "metadata": {
        "id": "bZyFGD5t2HWX",
        "colab_type": "code",
        "colab": {
          "base_uri": "https://localhost:8080/",
          "height": 34
        },
        "outputId": "8ef84da1-35b4-4d60-e2b1-22152d2b9287"
      },
      "source": [
        "annual_average_interest=0.07\n",
        "target_present_value=1000000\n",
        "number_of_years=15\n",
        "\n",
        "np.pmt(rate=((1+annual_average_interest)**(1/12) - 1), \n",
        "       nper=number_of_years*12, pv=0, fv=target_present_value)"
      ],
      "execution_count": 21,
      "outputs": [
        {
          "output_type": "execute_result",
          "data": {
            "text/plain": [
              "-3214.351338524575"
            ]
          },
          "metadata": {
            "tags": []
          },
          "execution_count": 21
        }
      ]
    },
    {
      "cell_type": "markdown",
      "metadata": {
        "id": "7wGt8mB22Twc",
        "colab_type": "text"
      },
      "source": [
        "But what if you were willing to wait an extra 15 years, for a total of 30 years? How much will you need to invest each month?"
      ]
    },
    {
      "cell_type": "code",
      "metadata": {
        "id": "Mc4nJcBD2z3P",
        "colab_type": "code",
        "colab": {
          "base_uri": "https://localhost:8080/",
          "height": 34
        },
        "outputId": "482bde6d-a0eb-49bd-9656-99b22aecd334"
      },
      "source": [
        "annual_average_interest=0.07\n",
        "target_present_value=1000000\n",
        "number_of_years=30\n",
        "\n",
        "np.pmt(rate=((1+annual_average_interest)**(1/12) - 1), \n",
        "       nper=number_of_years*12, pv=0, fv=target_present_value)"
      ],
      "execution_count": 22,
      "outputs": [
        {
          "output_type": "execute_result",
          "data": {
            "text/plain": [
              "-855.1009225937204"
            ]
          },
          "metadata": {
            "tags": []
          },
          "execution_count": 22
        }
      ]
    },
    {
      "cell_type": "markdown",
      "metadata": {
        "id": "GU_Tm5ye3Ail",
        "colab_type": "text"
      },
      "source": [
        "**Inflation-Adjusted Net Worth**\n",
        "\n",
        "By saving 30% per year, your simulation shows that you can accumulate $896,962.66. Not quite a millionaire, but not bad at all!\n",
        "\n",
        "For the sake of simplicity, let's assume you were able to save $900,000 by following your budget.\n",
        "\n",
        "But what if you retire 15 years from now? What is $900,000 going to be truly worth 15 years from now?"
      ]
    },
    {
      "cell_type": "markdown",
      "metadata": {
        "id": "rdgeuhqm3GgX",
        "colab_type": "text"
      },
      "source": [
        "* Set your future_net_worth equal to $900,000.\n",
        "* Set the annual inflation rate equal to 2.5%. Do not compound inflation monthly.\n",
        "* Using .pv(), calculate the present value of your net worth 15 years from now."
      ]
    },
    {
      "cell_type": "code",
      "metadata": {
        "id": "f_6KmbGn3LtI",
        "colab_type": "code",
        "colab": {
          "base_uri": "https://localhost:8080/",
          "height": 34
        },
        "outputId": "9ed9aa66-653c-4f0a-dfe7-1129b0fd48d3"
      },
      "source": [
        "# Set your future net worth\n",
        "future_net_worth = 900000\n",
        "\n",
        "# Set the annual inflation rate to 2.5%\n",
        "annual_inflation = 0.025\n",
        "\n",
        "number_of_years=15\n",
        "\n",
        "# Calculate the present value of your terminal wealth over 15 years\n",
        "inflation_adjusted_net_worth = np.pv(rate=annual_inflation, nper=number_of_years, pmt=0, fv=-1*future_net_worth)\n",
        "print(\"Your inflation-adjusted net worth: $\" + str(round(inflation_adjusted_net_worth, 2)))"
      ],
      "execution_count": 23,
      "outputs": [
        {
          "output_type": "stream",
          "text": [
            "Your inflation-adjusted net worth: $621419.0\n"
          ],
          "name": "stdout"
        }
      ]
    }
  ]
}